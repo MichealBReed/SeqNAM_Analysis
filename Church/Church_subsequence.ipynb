{
 "cells": [
  {
   "cell_type": "code",
   "execution_count": 2,
   "id": "bbfb4791-14b7-4dd5-9559-2526011ec2d4",
   "metadata": {
    "tags": []
   },
   "outputs": [],
   "source": [
    "with open(\"SeqNAM_Church.fa\", \"r\") as infile:\n",
    "    \n",
    "    next(infile)\n",
    "    \n",
    "    for line in infile:\n",
    "    \n",
    "        for idx in range(0, len(line) - 340,340):\n",
    "        \n",
    "            seq_header = \"Church_seq{}\".format(idx)\n",
    "        \n",
    "            subseq = line[idx : idx + 340]\n",
    "        \n",
    "            with open(\"SeqNAM_Church_subseqs.fa\", \"a\") as outfile:\n",
    "            \n",
    "                outfile.write(\">\" + seq_header + \"\\n\" + subseq + \"\\n\")  "
   ]
  }
 ],
 "metadata": {
  "kernelspec": {
   "display_name": "Python 3 (ipykernel)",
   "language": "python",
   "name": "python3"
  },
  "language_info": {
   "codemirror_mode": {
    "name": "ipython",
    "version": 3
   },
   "file_extension": ".py",
   "mimetype": "text/x-python",
   "name": "python",
   "nbconvert_exporter": "python",
   "pygments_lexer": "ipython3",
   "version": "3.11.6"
  }
 },
 "nbformat": 4,
 "nbformat_minor": 5
}
