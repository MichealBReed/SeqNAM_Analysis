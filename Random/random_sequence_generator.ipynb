{
 "cells": [
  {
   "cell_type": "code",
   "execution_count": 1,
   "id": "1a705e9d-af08-428c-be00-dc885a7373fc",
   "metadata": {},
   "outputs": [],
   "source": [
    "from random import randint"
   ]
  },
  {
   "cell_type": "code",
   "execution_count": 2,
   "id": "f3770ac6-39b5-4429-b05c-09fb12d02263",
   "metadata": {
    "tags": []
   },
   "outputs": [],
   "source": [
    "def random_sequence(length=340):\n",
    "    \n",
    "    seq = \"\"\n",
    "    \n",
    "    nt_list = []\n",
    "    \n",
    "    nt_db = {0 : \"A\",\n",
    "         1 : \"T\",\n",
    "         2 : \"G\",\n",
    "         3 : \"C\"}\n",
    "    \n",
    "    for _ in range(0, length):\n",
    "        \n",
    "        integer = randint(0,3)\n",
    "        \n",
    "        nt = nt_db[integer]\n",
    "        \n",
    "        nt_list.append(nt)\n",
    "        \n",
    "    return seq.join(nt_list)"
   ]
  },
  {
   "cell_type": "code",
   "execution_count": 4,
   "id": "db275037-8017-4359-94dd-270ed350ec09",
   "metadata": {
    "tags": []
   },
   "outputs": [],
   "source": [
    "for _ in range(0,368):\n",
    "    \n",
    "    sequence = random_sequence()\n",
    "    \n",
    "    header = \"random_seq{}\".format(_)\n",
    "    \n",
    "    with open(\"random_sequence.fa\",\"a\") as outfile:\n",
    "        \n",
    "        outfile.write(\">\" + header + \"\\n\" + sequence + \"\\n\")"
   ]
  }
 ],
 "metadata": {
  "kernelspec": {
   "display_name": "Python 3 (ipykernel)",
   "language": "python",
   "name": "python3"
  },
  "language_info": {
   "codemirror_mode": {
    "name": "ipython",
    "version": 3
   },
   "file_extension": ".py",
   "mimetype": "text/x-python",
   "name": "python",
   "nbconvert_exporter": "python",
   "pygments_lexer": "ipython3",
   "version": "3.10.12"
  }
 },
 "nbformat": 4,
 "nbformat_minor": 5
}
